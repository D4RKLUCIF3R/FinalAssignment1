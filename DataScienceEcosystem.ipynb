{
 "cells": [
  {
   "cell_type": "markdown",
   "id": "cc9e48b0-09e8-40cd-9f42-c1ef61112466",
   "metadata": {},
   "source": [
    "# __Data Science Tools and Ecosystem__"
   ]
  },
  {
   "cell_type": "markdown",
   "id": "a2522143-61ee-49d2-b33f-4b69f1ebc134",
   "metadata": {},
   "source": [
    "*In this notebook, Datascience Tools and Ecosystem are summarized*"
   ]
  },
  {
   "cell_type": "markdown",
   "id": "43c1975a-70f5-4a8f-a39e-6f372c79cac3",
   "metadata": {},
   "source": [
    "*Some of the popular languages that Data Scientists use are:*\n",
    "1. Python \n",
    "2. R\n",
    "3. Julia"
   ]
  },
  {
   "cell_type": "markdown",
   "id": "eb521539-5ae4-49b3-a8f5-023dace16022",
   "metadata": {},
   "source": [
    "Some commonly used libraries used by Data Scientists include:\n",
    "1. numpy\n",
    "2. pandas\n",
    "3. matplotlib\n",
    "4. seaborn \n",
    "5. scikit-learn\n"
   ]
  },
  {
   "cell_type": "markdown",
   "id": "e4553727-c820-47a1-92dd-75cece7e4d3e",
   "metadata": {},
   "source": [
    "|Data Science Tools|\n",
    "|------------------|\n",
    "|MySql|\n",
    "|Apache Spark|\n",
    "|Pixiedust|\n",
    "|mLeap|\n",
    "|ModelDB|\n",
    "|GitHub|\n",
    "|JupyterLab|"
   ]
  },
  {
   "cell_type": "markdown",
   "id": "76a98283-1524-48c6-80dc-6e916b1707a5",
   "metadata": {},
   "source": [
    "### Below are a few examples of evaluating arithmetic expressions in Python"
   ]
  },
  {
   "cell_type": "code",
   "execution_count": 1,
   "id": "6dc87de4-d57f-4ca0-8c8d-512357bb4d7c",
   "metadata": {},
   "outputs": [
    {
     "data": {
      "text/plain": [
       "17"
      ]
     },
     "execution_count": 1,
     "metadata": {},
     "output_type": "execute_result"
    }
   ],
   "source": [
    "(3*4)+5"
   ]
  },
  {
   "cell_type": "code",
   "execution_count": 3,
   "id": "65284c44-8851-4cb5-bf13-1b1b52a5e078",
   "metadata": {},
   "outputs": [
    {
     "name": "stdout",
     "output_type": "stream",
     "text": [
      "200 minutes in hours is 3 hours\n"
     ]
    }
   ],
   "source": [
    "print(f\"200 minutes in hours is {round(200/60)} hours\") #This will convert 200 minutes to hours by diving by 60"
   ]
  },
  {
   "cell_type": "markdown",
   "id": "1a425daf-cbd6-43bc-9501-139ce931f11b",
   "metadata": {},
   "source": [
    "**Objectives**:\n",
    "- List of popular languages in Data Science\n",
    "- List of commonly used libraries used by Data Scientists\n",
    "- List of Data Science tools\n",
    "- Evaluation of Arithematic Expression\n",
    "- Conversion of time from minutes to hours"
   ]
  },
  {
   "cell_type": "markdown",
   "id": "381c86f3-d44f-4a00-8570-d1a45c626cf9",
   "metadata": {},
   "source": [
    "## Author\n",
    "Hrushikesh T"
   ]
  }
 ],
 "metadata": {
  "kernelspec": {
   "display_name": "Python 3",
   "language": "python",
   "name": "python3"
  },
  "language_info": {
   "codemirror_mode": {
    "name": "ipython",
    "version": 3
   },
   "file_extension": ".py",
   "mimetype": "text/x-python",
   "name": "python",
   "nbconvert_exporter": "python",
   "pygments_lexer": "ipython3",
   "version": "3.8.8"
  }
 },
 "nbformat": 4,
 "nbformat_minor": 5
}
